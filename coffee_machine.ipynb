{
 "cells": [
  {
   "cell_type": "markdown",
   "metadata": {},
   "source": [
    "# Final Coffee Machine Project"
   ]
  },
  {
   "cell_type": "markdown",
   "metadata": {},
   "source": [
    "Below is my implementation of the Coffee Machine project on JetBrains Academy. \n",
    "\n",
    "https://hyperskill.org/projects/68?track=2\n",
    "\n",
    "## About\n",
    "What can be better than a cup of coffee during a break? A coffee that you don’t have to make yourself. It’s enough to press a couple of buttons on the machine and you get a cup of energy; but first, we should teach the machine how to do it. In this project, you will work on programming a coffee machine simulator. The machine works with typical products: coffee, milk, sugar, and plastic cups; if it runs out of something, it shows a notification. You can get three types of coffee: espresso, cappuccino, and latte. Since nothing’s for free, it also collects the money.\n",
    "\n",
    "## Learning outcomes\n",
    "This project allows you to get a taste of Python. Practice working with functions, challenge yourself with loops and conditions, and get more confident in Python."
   ]
  },
  {
   "cell_type": "code",
   "execution_count": 4,
   "metadata": {},
   "outputs": [],
   "source": [
    "# initiatize machine values\n",
    "water = 400\n",
    "milk = 540\n",
    "beans = 120\n",
    "cups = 9\n",
    "money = 550"
   ]
  },
  {
   "cell_type": "code",
   "execution_count": 2,
   "metadata": {},
   "outputs": [],
   "source": [
    "# define CoffeeMachine class\n",
    "class CoffeeMachine:\n",
    "    def __init__(self):\n",
    "        self.task()\n",
    "        \n",
    "    def task(self):\n",
    "        while True:\n",
    "            action = str(input(\"Write action (buy, fill, take, remaining, exit):\"))\n",
    "            if action == \"buy\":\n",
    "                self.buy()\n",
    "            elif action == \"fill\":\n",
    "                self.fill()\n",
    "            elif action == \"take\":\n",
    "                self.take()\n",
    "            elif action == \"remaining\":\n",
    "                self.remaining()\n",
    "            elif action == \"exit\":\n",
    "                break\n",
    "\n",
    "    def remaining(self):\n",
    "        global water, milk, beans, cups, money\n",
    "        print(\"The coffee machine has:\")\n",
    "        print(water,\"of water\")\n",
    "        print(milk,\"of milk\")\n",
    "        print(beans,\"of coffee beans\")\n",
    "        print(cups,\"of disposable cups\")\n",
    "        print(\"$\"+str(money),\"of money\")\n",
    "\n",
    "    def buy(self):\n",
    "        global water, milk, beans, cups, money\n",
    "        what_buy = input(\"What do you want to buy? 1 - espresso, 2 - latte, 3 - cappuccino:\")\n",
    "        if what_buy == 'back':\n",
    "            pass\n",
    "        else:    \n",
    "            ingredients = {\"water\":(250,350,200),\"milk\":(0,75,100),\"beans\":(16,20,12),\"money\":(4,7,6)}\n",
    "            if water >=  ingredients[\"water\"][int(what_buy)-1] and milk >= ingredients[\"milk\"][int(what_buy)-1] and beans >= ingredients[\"beans\"][int(what_buy)-1] and cups >= cups:\n",
    "                water -= ingredients[\"water\"][int(what_buy)-1]\n",
    "                milk -= ingredients[\"milk\"][int(what_buy)-1]\n",
    "                beans -= ingredients[\"beans\"][int(what_buy)-1]\n",
    "                cups -= 1\n",
    "                money = money + ingredients[\"money\"][int(what_buy)-1]\n",
    "                print(\"I have enough resources, making you a coffee!\")\n",
    "            else:\n",
    "                print(\"Sorry, not enough resources!\")\n",
    "    \n",
    "    def fill(self):\n",
    "        global water, milk, beans, cups, money\n",
    "        add_water = int(input(\"Write how many ml of water do you want to add:\"))\n",
    "        add_milk = int(input(\"Write how many ml of milk do you want to add:\"))\n",
    "        add_beans = int(input(\"Write how many grams of coffee beans do you want to add:\"))\n",
    "        add_cups = int(input(\"Write how many disposable cups of coffee do you want to add:\"))\n",
    "        water += add_water\n",
    "        milk += add_milk\n",
    "        beans += add_beans\n",
    "        cups += add_cups\n",
    "\n",
    "    def take(self):\n",
    "        global money\n",
    "        print(\"I gave you $\" + str(money))\n",
    "        money -= money"
   ]
  },
  {
   "cell_type": "code",
   "execution_count": 3,
   "metadata": {},
   "outputs": [
    {
     "name": "stdin",
     "output_type": "stream",
     "text": [
      "Write action (buy, fill, take, remaining, exit): exit\n"
     ]
    }
   ],
   "source": [
    "coffee = CoffeeMachine()"
   ]
  }
 ],
 "metadata": {
  "kernelspec": {
   "display_name": "Python 3",
   "language": "python",
   "name": "python3"
  },
  "language_info": {
   "codemirror_mode": {
    "name": "ipython",
    "version": 3
   },
   "file_extension": ".py",
   "mimetype": "text/x-python",
   "name": "python",
   "nbconvert_exporter": "python",
   "pygments_lexer": "ipython3",
   "version": "3.7.7"
  }
 },
 "nbformat": 4,
 "nbformat_minor": 4
}
